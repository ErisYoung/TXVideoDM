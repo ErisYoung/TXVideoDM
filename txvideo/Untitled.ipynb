{
 "cells": [
  {
   "cell_type": "code",
   "execution_count": 53,
   "metadata": {},
   "outputs": [
    {
     "ename": "SyntaxError",
     "evalue": "invalid syntax (<ipython-input-53-8a37f7888138>, line 19)",
     "output_type": "error",
     "traceback": [
      "\u001b[1;36m  File \u001b[1;32m\"<ipython-input-53-8a37f7888138>\"\u001b[1;36m, line \u001b[1;32m19\u001b[0m\n\u001b[1;33m    a%(page=2)\u001b[0m\n\u001b[1;37m           ^\u001b[0m\n\u001b[1;31mSyntaxError\u001b[0m\u001b[1;31m:\u001b[0m invalid syntax\n"
     ]
    }
   ],
   "source": [
    "import pandas as pd \n",
    "\n",
    "columns=['as','bb']\n",
    "df=pd.DataFrame(columns=columns)\n",
    "\n",
    "cache=pd.Series(['xx','cc'],index=['as','bb'])\n",
    "\n",
    "df=pd.DataFrame({'a':[1,3,2,2],'b':[2,3,1,1]})\n",
    "df.drop_duplicates()\n",
    "\n",
    "df1=pd.DataFrame({'a':[1,2],'b1':[3,4]})\n",
    "df2=pd.DataFrame({'a':[1,2],'b1':[3,5]})\n",
    "df1\n",
    "df=pd.DataFrame()\n",
    "df=pd.concat([df,df1])\n",
    "print(df)\n",
    "df=pd.concat([df,df2])\n",
    "a=\"dadj{page}\"\n",
    "a%(page=2)\n"
   ]
  }
 ],
 "metadata": {
  "kernelspec": {
   "display_name": "Python 3",
   "language": "python",
   "name": "python3"
  },
  "language_info": {
   "codemirror_mode": {
    "name": "ipython",
    "version": 3
   },
   "file_extension": ".py",
   "mimetype": "text/x-python",
   "name": "python",
   "nbconvert_exporter": "python",
   "pygments_lexer": "ipython3",
   "version": "3.7.0"
  }
 },
 "nbformat": 4,
 "nbformat_minor": 2
}
